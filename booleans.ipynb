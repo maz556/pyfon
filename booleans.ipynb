{
 "cells": [
  {
   "cell_type": "markdown",
   "metadata": {},
   "source": [
    "# Booleans\n",
    "\n",
    "Boolean values are either `True` or `False`."
   ]
  },
  {
   "cell_type": "markdown",
   "metadata": {},
   "source": [
    "## Operators That Result in a Boolean Value\n",
    "\n",
    "There are various operator symbols and keywords that result in boolean values in Python:\n",
    "\n",
    "- `>`\n",
    "- `>=`\n",
    "- `<`\n",
    "- `<=`\n",
    "- `==`\n",
    "- `!=`\n",
    "- `is`\n",
    "- `is not`\n",
    "- `in`\n",
    "- `not in`"
   ]
  },
  {
   "cell_type": "code",
   "execution_count": 13,
   "metadata": {},
   "outputs": [
    {
     "name": "stdout",
     "output_type": "stream",
     "text": [
      "True\n",
      "False\n",
      "True\n"
     ]
    }
   ],
   "source": [
    "# Greater than\n",
    "print(5 > 6)  # False\n",
    "print(5 > 5)  # False\n",
    "print(8 > 6)  # True"
   ]
  },
  {
   "cell_type": "code",
   "execution_count": 7,
   "metadata": {},
   "outputs": [
    {
     "name": "stdout",
     "output_type": "stream",
     "text": [
      "False\n",
      "True\n",
      "True\n"
     ]
    }
   ],
   "source": [
    "\n",
    "# Greater than or equal to\n",
    "print(5 >= 6)  # False\n",
    "print(5 >= 5)  # True\n",
    "print(8 >= 6)  # True"
   ]
  },
  {
   "cell_type": "code",
   "execution_count": 8,
   "metadata": {},
   "outputs": [
    {
     "name": "stdout",
     "output_type": "stream",
     "text": [
      "True\n",
      "False\n",
      "False\n"
     ]
    }
   ],
   "source": [
    "# Less than\n",
    "print(5 < 6)  # True\n",
    "print(5 < 5)  # False\n",
    "print(8 < 6)  # False"
   ]
  },
  {
   "cell_type": "code",
   "execution_count": null,
   "metadata": {},
   "outputs": [],
   "source": [
    "# Less than or equal to\n",
    "print(5 <= 6)  # True\n",
    "print(5 <= 5)  # True\n",
    "print(8 <= 6)  # False"
   ]
  },
  {
   "cell_type": "code",
   "execution_count": null,
   "metadata": {},
   "outputs": [],
   "source": [
    "# Equal to\n",
    "print(5 == 6)  # False\n",
    "print(5 == 5)  # True\n",
    "print(8 == 6)  # False"
   ]
  },
  {
   "cell_type": "code",
   "execution_count": null,
   "metadata": {},
   "outputs": [],
   "source": [
    "# Not equal to\n",
    "print(5 != 6)  # True\n",
    "print(5 != 5)  # False\n",
    "print(8 != 6)  # True"
   ]
  },
  {
   "cell_type": "code",
   "execution_count": 9,
   "metadata": {},
   "outputs": [
    {
     "name": "stdout",
     "output_type": "stream",
     "text": [
      "False\n",
      "True\n"
     ]
    }
   ],
   "source": [
    "# is\n",
    "x = 5\n",
    "print(x is None)  # False\n",
    "y = None\n",
    "print(y is None)  # True"
   ]
  },
  {
   "cell_type": "code",
   "execution_count": 10,
   "metadata": {},
   "outputs": [
    {
     "name": "stdout",
     "output_type": "stream",
     "text": [
      "True\n",
      "False\n"
     ]
    }
   ],
   "source": [
    "# is not\n",
    "x = 5\n",
    "print(x is not None)  # True\n",
    "print(not x is None)  # True, same as above but less readable\n",
    "y = None\n",
    "print(y is not None)  # False"
   ]
  },
  {
   "cell_type": "code",
   "execution_count": 11,
   "metadata": {},
   "outputs": [
    {
     "name": "stdout",
     "output_type": "stream",
     "text": [
      "False\n",
      "True\n"
     ]
    }
   ],
   "source": [
    "# in (for determining membership in a collection)\n",
    "test_list = [1, 3, 2, 5, 9, 0]\n",
    "print(6 in test_list)  # False\n",
    "print(3 in test_list)  # True"
   ]
  },
  {
   "cell_type": "code",
   "execution_count": 12,
   "metadata": {},
   "outputs": [
    {
     "name": "stdout",
     "output_type": "stream",
     "text": [
      "True\n",
      "False\n"
     ]
    }
   ],
   "source": [
    "# not in\n",
    "test_list = [1, 3, 2, 5, 9, 0]\n",
    "print(6 not in test_list)  # True\n",
    "print(not 6 in test_list)  # True, same as above but less readable\n",
    "print(3 not in test_list)  # False"
   ]
  }
 ],
 "metadata": {
  "kernelspec": {
   "display_name": "Python 3.8.13 64-bit ('3.8.13')",
   "language": "python",
   "name": "python3"
  },
  "language_info": {
   "codemirror_mode": {
    "name": "ipython",
    "version": 3
   },
   "file_extension": ".py",
   "mimetype": "text/x-python",
   "name": "python",
   "nbconvert_exporter": "python",
   "pygments_lexer": "ipython3",
   "version": "3.8.13"
  },
  "orig_nbformat": 4,
  "vscode": {
   "interpreter": {
    "hash": "5ef31427dfd744c7ffa8d89a544298a5a7ffe291180da98fcec95d79e6048d54"
   }
  }
 },
 "nbformat": 4,
 "nbformat_minor": 2
}
