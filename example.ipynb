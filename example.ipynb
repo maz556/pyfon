{
 "cells": [
  {
   "cell_type": "markdown",
   "metadata": {},
   "source": [
    "This is a *Jupyter* notebook\n",
    "\n",
    "```python\n",
    ">>>print(\"hello world\")\n",
    "hello world\n",
    "```"
   ]
  },
  {
   "cell_type": "code",
   "execution_count": 1,
   "metadata": {},
   "outputs": [
    {
     "name": "stdout",
     "output_type": "stream",
     "text": [
      "hello world\n",
      "goodbye world\n"
     ]
    }
   ],
   "source": [
    "# You can't add or subtract\n",
    "print(\"hello world\")\n",
    "print(\"goodbye world\")"
   ]
  },
  {
   "cell_type": "markdown",
   "metadata": {},
   "source": [
    "Variables allow you to store data (in the form of a string, integer, or other data type) so that you can reuse the data"
   ]
  },
  {
   "cell_type": "code",
   "execution_count": 2,
   "metadata": {},
   "outputs": [
    {
     "name": "stdout",
     "output_type": "stream",
     "text": [
      "hello world\n",
      "hello world\n",
      "hello world\n",
      "hello world\n",
      "hello world\n",
      "hello world!\n"
     ]
    }
   ],
   "source": [
    "print(\"hello world\")\n",
    "print(\"hello world\")\n",
    "print(\"hello world\")\n",
    "print(\"hello world\")\n",
    "print(\"hello world\")\n",
    "print(\"hello world\" + \"!\")"
   ]
  },
  {
   "cell_type": "code",
   "execution_count": 2,
   "metadata": {},
   "outputs": [
    {
     "name": "stdout",
     "output_type": "stream",
     "text": [
      "goodbye\n",
      "goodbye\n",
      "goodbye my friend\n",
      "goodbyegoodbyegoodbyegoodbye\n"
     ]
    }
   ],
   "source": [
    "# We can create a variable named 'phrase' to store a string for reuse\n",
    "whatever = \"goodbye\"\n",
    "print(whatever)\n",
    "print(whatever)\n",
    "print(whatever + \" my friend\")\n",
    "print(whatever * 4)"
   ]
  },
  {
   "cell_type": "code",
   "execution_count": 4,
   "metadata": {},
   "outputs": [
    {
     "name": "stdout",
     "output_type": "stream",
     "text": [
      "16\n",
      "12\n"
     ]
    }
   ],
   "source": [
    "# You can store integers too\n",
    "favorite_number = 6\n",
    "other_number = 8\n",
    "print(2 + favorite_number + other_number)\n",
    "print(2 * favorite_number)"
   ]
  },
  {
   "cell_type": "markdown",
   "metadata": {},
   "source": [
    "Variables will behave the same as the values they represent"
   ]
  },
  {
   "cell_type": "code",
   "execution_count": 5,
   "metadata": {},
   "outputs": [
    {
     "ename": "TypeError",
     "evalue": "unsupported operand type(s) for +: 'int' and 'str'",
     "output_type": "error",
     "traceback": [
      "\u001b[0;31m---------------------------------------------------------------------------\u001b[0m",
      "\u001b[0;31mTypeError\u001b[0m                                 Traceback (most recent call last)",
      "\u001b[1;32m/home/maz/Projects/py-practice/example.ipynb Cell 8'\u001b[0m in \u001b[0;36m<cell line: 4>\u001b[0;34m()\u001b[0m\n\u001b[1;32m      <a href='vscode-notebook-cell://wsl%2Bubuntu-20.04/home/maz/Projects/py-practice/example.ipynb#ch0000007vscode-remote?line=1'>2</a>\u001b[0m word \u001b[39m=\u001b[39m \u001b[39m\"\u001b[39m\u001b[39mwhatever\u001b[39m\u001b[39m\"\u001b[39m\n\u001b[1;32m      <a href='vscode-notebook-cell://wsl%2Bubuntu-20.04/home/maz/Projects/py-practice/example.ipynb#ch0000007vscode-remote?line=2'>3</a>\u001b[0m number \u001b[39m=\u001b[39m \u001b[39m10\u001b[39m\n\u001b[0;32m----> <a href='vscode-notebook-cell://wsl%2Bubuntu-20.04/home/maz/Projects/py-practice/example.ipynb#ch0000007vscode-remote?line=3'>4</a>\u001b[0m number \u001b[39m+\u001b[39;49m word\n",
      "\u001b[0;31mTypeError\u001b[0m: unsupported operand type(s) for +: 'int' and 'str'"
     ]
    }
   ],
   "source": [
    "# Adding a varaible that was assigned a string to a variable that was assigned an integer will raise an error\n",
    "word = \"whatever\"\n",
    "number = 10\n",
    "number + word"
   ]
  },
  {
   "cell_type": "code",
   "execution_count": null,
   "metadata": {},
   "outputs": [
    {
     "name": "stdout",
     "output_type": "stream",
     "text": [
      "False\n",
      "True\n",
      "False\n"
     ]
    }
   ],
   "source": [
    "is_friday = True\n",
    "is_after_8 = False\n",
    "print(is_friday and is_after_8)\n",
    "print(is_friday or is_after_8)\n",
    "print(is_friday == is_after_8)"
   ]
  },
  {
   "cell_type": "markdown",
   "metadata": {},
   "source": [
    "Keep in mind that `==` (double equal sign) is for comparison, while `=` (single equal sign) is for assignemnt"
   ]
  },
  {
   "cell_type": "code",
   "execution_count": 5,
   "metadata": {},
   "outputs": [
    {
     "name": "stdout",
     "output_type": "stream",
     "text": [
      "False\n"
     ]
    }
   ],
   "source": [
    "# Two variables that represent the scores in a two-part test\n",
    "first_part = 40\n",
    "second_part = 30\n",
    "\n",
    "# Passing variable is a boolan dependent on the values of the variables above\n",
    "passing = (first_part + second_part) >= 70\n",
    "\n",
    "print(passing)"
   ]
  },
  {
   "cell_type": "code",
   "execution_count": null,
   "metadata": {},
   "outputs": [
    {
     "ename": "TypeError",
     "evalue": "'str' object is not callable",
     "output_type": "error",
     "traceback": [
      "\u001b[0;31m---------------------------------------------------------------------------\u001b[0m",
      "\u001b[0;31mTypeError\u001b[0m                                 Traceback (most recent call last)",
      "\u001b[1;32m/home/maz/Projects/py-practice/example.ipynb Cell 10'\u001b[0m in \u001b[0;36m<cell line: 4>\u001b[0;34m()\u001b[0m\n\u001b[1;32m      <a href='vscode-notebook-cell://wsl%2Bubuntu-20.04/home/maz/Projects/py-practice/example.ipynb#ch0000011vscode-remote?line=1'>2</a>\u001b[0m \u001b[39mprint\u001b[39m \u001b[39m=\u001b[39m \u001b[39m\"\u001b[39m\u001b[39mdon\u001b[39m\u001b[39m'\u001b[39m\u001b[39mt do this\u001b[39m\u001b[39m\"\u001b[39m\n\u001b[1;32m      <a href='vscode-notebook-cell://wsl%2Bubuntu-20.04/home/maz/Projects/py-practice/example.ipynb#ch0000011vscode-remote?line=2'>3</a>\u001b[0m \u001b[39m# The word 'print' no longer refers to the 'print' function but instead to the \"hello\" string\u001b[39;00m\n\u001b[0;32m----> <a href='vscode-notebook-cell://wsl%2Bubuntu-20.04/home/maz/Projects/py-practice/example.ipynb#ch0000011vscode-remote?line=3'>4</a>\u001b[0m \u001b[39mprint\u001b[39;49m(\u001b[39m\"\u001b[39;49m\u001b[39mhello world\u001b[39;49m\u001b[39m\"\u001b[39;49m)\n",
      "\u001b[0;31mTypeError\u001b[0m: 'str' object is not callable"
     ]
    }
   ],
   "source": [
    "# Don't accidentally overwrite existing names for function and other variables!\n",
    "print = \"don't do this\"\n",
    "# The word 'print' no longer refers to the 'print' function but instead to the \"hello\" string\n",
    "# so this would raise an error\n",
    "print(\"hello world\")\n",
    "# Restarting the program will reset the names back to the defaults\n"
   ]
  }
 ],
 "metadata": {
  "kernelspec": {
   "display_name": "Python 3.8.13 64-bit ('3.8.13')",
   "language": "python",
   "name": "python3"
  },
  "language_info": {
   "codemirror_mode": {
    "name": "ipython",
    "version": 3
   },
   "file_extension": ".py",
   "mimetype": "text/x-python",
   "name": "python",
   "nbconvert_exporter": "python",
   "pygments_lexer": "ipython3",
   "version": "3.8.13"
  },
  "orig_nbformat": 4,
  "vscode": {
   "interpreter": {
    "hash": "5ef31427dfd744c7ffa8d89a544298a5a7ffe291180da98fcec95d79e6048d54"
   }
  }
 },
 "nbformat": 4,
 "nbformat_minor": 2
}
