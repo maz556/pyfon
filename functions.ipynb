{
 "cells": [
  {
   "cell_type": "markdown",
   "metadata": {},
   "source": [
    "# Functions\n",
    "\n",
    "In the same way that you reuse a value by assigning it to a variable, you can define a function to reuse a block of logic/instructions."
   ]
  },
  {
   "cell_type": "code",
   "execution_count": 2,
   "metadata": {},
   "outputs": [
    {
     "name": "stdout",
     "output_type": "stream",
     "text": [
      "Hello, Carlos!\n",
      "How are you doing today?\n",
      "That's good to hear, Carlos!\n",
      "Goodbye!\n",
      "Hello, Ofelio!\n",
      "How are you doing today?\n",
      "That's good to hear, Ofelio!\n",
      "Goodbye!\n"
     ]
    }
   ],
   "source": [
    "name = \"Carlos\"\n",
    "print(f\"Hello, {name}!\")\n",
    "print(\"How are you doing today?\")\n",
    "print(f\"That's good to hear, {name}!\")\n",
    "print(\"Goodbye!\")\n",
    "\n",
    "# In order to repeat the same set of instructions, we have to retype them again\n",
    "name = \"Ofelio\"\n",
    "print(f\"Hello, {name}!\")\n",
    "print(\"How are you doing today?\")\n",
    "print(f\"That's good to hear, {name}!\")\n",
    "print(\"Goodbye!\")"
   ]
  },
  {
   "cell_type": "code",
   "execution_count": 4,
   "metadata": {},
   "outputs": [
    {
     "name": "stdout",
     "output_type": "stream",
     "text": [
      "Hello, Carlos!\n",
      "How are you doing today?\n",
      "That sucks to hear, Carlos!\n",
      "Goodbye!\n",
      "Hello, Ofelio!\n",
      "How are you doing today?\n",
      "That sucks to hear, Ofelio!\n",
      "Goodbye!\n"
     ]
    }
   ],
   "source": [
    "# Additionally, if we want to change the instructions in any way, we'd have to change them in both places\n",
    "name = \"Carlos\"\n",
    "print(f\"Hello, {name}!\")\n",
    "print(\"How are you doing today?\")\n",
    "print(f\"That sucks to hear, {name}!\")  # Made a change here\n",
    "print(\"Goodbye!\")\n",
    "\n",
    "# In order to repeat the same set of instructions, we have to retype them again\n",
    "name = \"Ofelio\"\n",
    "print(f\"Hello, {name}!\")\n",
    "print(\"How are you doing today?\")\n",
    "print(f\"That sucks to hear, {name}!\")  # Also had to change it here\n",
    "print(\"Goodbye!\")"
   ]
  },
  {
   "cell_type": "markdown",
   "metadata": {},
   "source": [
    "In order to avoid this repetition, we can use functions."
   ]
  },
  {
   "cell_type": "code",
   "execution_count": 3,
   "metadata": {},
   "outputs": [
    {
     "ename": "TypeError",
     "evalue": "'str' object is not callable",
     "output_type": "error",
     "traceback": [
      "\u001b[0;31m---------------------------------------------------------------------------\u001b[0m",
      "\u001b[0;31mTypeError\u001b[0m                                 Traceback (most recent call last)",
      "\u001b[1;32m/home/maz/Projects/pyfon/function.ipynb Cell 5\u001b[0m in \u001b[0;36m<cell line: 9>\u001b[0;34m()\u001b[0m\n\u001b[1;32m      <a href='vscode-notebook-cell://wsl%2Bubuntu-20.04/home/maz/Projects/pyfon/function.ipynb#ch0000005vscode-remote?line=6'>7</a>\u001b[0m name \u001b[39m=\u001b[39m \u001b[39m\"\u001b[39m\u001b[39mManuel\u001b[39m\u001b[39m\"\u001b[39m\n\u001b[1;32m      <a href='vscode-notebook-cell://wsl%2Bubuntu-20.04/home/maz/Projects/pyfon/function.ipynb#ch0000005vscode-remote?line=7'>8</a>\u001b[0m \u001b[39minput\u001b[39m \u001b[39m=\u001b[39m \u001b[39m\"\u001b[39m\u001b[39mwhatever\u001b[39m\u001b[39m\"\u001b[39m\n\u001b[0;32m----> <a href='vscode-notebook-cell://wsl%2Bubuntu-20.04/home/maz/Projects/pyfon/function.ipynb#ch0000005vscode-remote?line=8'>9</a>\u001b[0m \u001b[39minput\u001b[39;49m(\u001b[39m\"\u001b[39;49m\u001b[39mwlerhwelrj\u001b[39;49m\u001b[39m\"\u001b[39;49m)\n\u001b[1;32m     <a href='vscode-notebook-cell://wsl%2Bubuntu-20.04/home/maz/Projects/pyfon/function.ipynb#ch0000005vscode-remote?line=9'>10</a>\u001b[0m small_talk(\u001b[39m\"\u001b[39m\u001b[39mCarlos\u001b[39m\u001b[39m\"\u001b[39m)\n\u001b[1;32m     <a href='vscode-notebook-cell://wsl%2Bubuntu-20.04/home/maz/Projects/pyfon/function.ipynb#ch0000005vscode-remote?line=10'>11</a>\u001b[0m \u001b[39m# --->\u001b[39;00m\n\u001b[1;32m     <a href='vscode-notebook-cell://wsl%2Bubuntu-20.04/home/maz/Projects/pyfon/function.ipynb#ch0000005vscode-remote?line=11'>12</a>\u001b[0m \u001b[39m#     name = \"Carlos\"\u001b[39;00m\n\u001b[1;32m     <a href='vscode-notebook-cell://wsl%2Bubuntu-20.04/home/maz/Projects/pyfon/function.ipynb#ch0000005vscode-remote?line=12'>13</a>\u001b[0m \u001b[39m#     print(f\"Hello, {name}!\")\u001b[39;00m\n\u001b[0;32m   (...)\u001b[0m\n\u001b[1;32m     <a href='vscode-notebook-cell://wsl%2Bubuntu-20.04/home/maz/Projects/pyfon/function.ipynb#ch0000005vscode-remote?line=15'>16</a>\u001b[0m \u001b[39m#     print(\"Goodbye!\")\u001b[39;00m\n\u001b[1;32m     <a href='vscode-notebook-cell://wsl%2Bubuntu-20.04/home/maz/Projects/pyfon/function.ipynb#ch0000005vscode-remote?line=16'>17</a>\u001b[0m \u001b[39m# <----\u001b[39;00m\n",
      "\u001b[0;31mTypeError\u001b[0m: 'str' object is not callable"
     ]
    }
   ],
   "source": [
    "def small_talk(name):\n",
    "    print(f\"Hello, {name}!\")\n",
    "    print(\"How are you doing today?\")\n",
    "    print(f\"That sucks to hear, {name}!\")\n",
    "    print(f\"Farewell, {name}!\")\n",
    "\n",
    "name = \"Manuel\"\n",
    "small_talk(\"Carlos\")\n",
    "# --->\n",
    "#     name = \"Carlos\"\n",
    "#     print(f\"Hello, {name}!\")\n",
    "#     print(\"How are you doing today?\")\n",
    "#     print(f\"That sucks to hear, {name}!\")  # Also had to change it here\n",
    "#     print(\"Goodbye!\")\n",
    "# <----\n",
    "small_talk(\"Ofelio\")\n",
    "# --->\n",
    "#     name = \"Ofelio\"\n",
    "#     print(f\"Hello, {name}!\")\n",
    "#     print(\"How are you doing today?\")\n",
    "#     print(f\"That sucks to hear, {name}!\")  # Also had to change it here\n",
    "#     print(\"Goodbye!\")\n",
    "# <----\n",
    "\n",
    "# Should still be \"Manuel\" even though we used another variable named \"name\" inside the function calls\n",
    "print(name)"
   ]
  },
  {
   "cell_type": "markdown",
   "metadata": {},
   "source": [
    "Functions can also \"return\" output values, using the `return` keyword. This is useful when you want a function, to provide different outputs based on what's given as an input."
   ]
  },
  {
   "cell_type": "code",
   "execution_count": 12,
   "metadata": {},
   "outputs": [
    {
     "name": "stdout",
     "output_type": "stream",
     "text": [
      "3\n",
      "9\n"
     ]
    }
   ],
   "source": [
    "# f(x) = x + 2\n",
    "def f(x):\n",
    "    return x + 2\n",
    "\n",
    "# Once the function is called and finishes, it \"returns\" the calculated value\n",
    "print(f(1))  # Equivalent to print(3) after the function returns\n",
    "\n",
    "print(f(7))  # Equivalent to print(9) after the function returns"
   ]
  },
  {
   "cell_type": "code",
   "execution_count": 21,
   "metadata": {},
   "outputs": [
    {
     "name": "stdout",
     "output_type": "stream",
     "text": [
      "405\n",
      "19\n"
     ]
    }
   ],
   "source": [
    "# You can define multiple arguments for the function as well\n",
    "# f(x,y) = x + 2y\n",
    "def f(x, y):\n",
    "    return x + 2 * y\n",
    "\n",
    "# A value must be given for each of the arguments the function expects based on its definition\n",
    "print(f(5, 200))\n",
    "\n",
    "# You can even store this returned value in a variable (just like any other value)\n",
    "result = f(3, 8)\n",
    "print(result)"
   ]
  }
 ],
 "metadata": {
  "kernelspec": {
   "display_name": "Python 3.8.13 64-bit ('3.8.13')",
   "language": "python",
   "name": "python3"
  },
  "language_info": {
   "codemirror_mode": {
    "name": "ipython",
    "version": 3
   },
   "file_extension": ".py",
   "mimetype": "text/x-python",
   "name": "python",
   "nbconvert_exporter": "python",
   "pygments_lexer": "ipython3",
   "version": "3.8.13"
  },
  "orig_nbformat": 4,
  "vscode": {
   "interpreter": {
    "hash": "5ef31427dfd744c7ffa8d89a544298a5a7ffe291180da98fcec95d79e6048d54"
   }
  }
 },
 "nbformat": 4,
 "nbformat_minor": 2
}
