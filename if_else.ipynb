{
 "cells": [
  {
   "cell_type": "markdown",
   "metadata": {},
   "source": [
    "# `if`, `elif`, and `else`"
   ]
  },
  {
   "cell_type": "markdown",
   "metadata": {},
   "source": [
    "## `if` Statements\n",
    "\n",
    "Sometimes you want to run lines of code only if a condition is met. You can use the `if` keyword to accomplish this type of logic gating.\n",
    "\n",
    "```python\n",
    "# Assume x has been defined and assigned a value\n",
    "if x == 4:\n",
    "    print(\"x is equal to 4!\")\n",
    "```\n",
    "\n",
    "In the above snippet of code, the `print` statement will only be run if the variable `x` is equal to 4."
   ]
  },
  {
   "cell_type": "code",
   "execution_count": 5,
   "metadata": {},
   "outputs": [],
   "source": [
    "x = 2\n",
    "\n",
    "if x == 4:\n",
    "    print(\"x is equal to 4!\")\n",
    "\n",
    "if x == 3:\n",
    "    print(\"x is equal to 3!\")"
   ]
  },
  {
   "cell_type": "markdown",
   "metadata": {},
   "source": [
    "## `elif` Statements\n",
    "\n",
    "After an `if` check fails, it might be useful to check if another condition is true and do something in that case. An `elif` statement (short for \"else if\") can be used to accomplish this kind of logic gating."
   ]
  },
  {
   "cell_type": "code",
   "execution_count": 13,
   "metadata": {},
   "outputs": [],
   "source": [
    "x = 2\n",
    "\n",
    "if x == 4:\n",
    "    print(\"x is equal to 4!\")\n",
    "elif x > 2:  # Will only be checked if the `if` condition was False\n",
    "    print(\"x not equal to 4 but it is greater than 2!\")\n",
    "\n",
    "# Note that this code will have a different output when x is set to 4\n",
    "if x == 4:\n",
    "    print(\"x is equal to 4!\")\n",
    "if x > 2:  # Will be checked regardless of whether the previous `if` condition was False or True\n",
    "    print(\"x is greater than 2!\")"
   ]
  },
  {
   "cell_type": "markdown",
   "metadata": {},
   "source": [
    "## `else` Statements\n",
    "\n",
    "After an `if` or `elif` check fails, it might be useful to do something in all other cases. An `else` statement can be used to accomplish this."
   ]
  },
  {
   "cell_type": "code",
   "execution_count": 21,
   "metadata": {},
   "outputs": [
    {
     "name": "stdout",
     "output_type": "stream",
     "text": [
      "x is not 3 or 4!\n"
     ]
    }
   ],
   "source": [
    "x = 4\n",
    "\n",
    "if x == 4:\n",
    "    print(\"x is 4!\")\n",
    "elif x == 3:\n",
    "    print(\"x is 3!\")\n",
    "else:  # Will only run if all checks before it are False\n",
    "    print(\"x is not 3 or 4!\")"
   ]
  },
  {
   "cell_type": "code",
   "execution_count": null,
   "metadata": {},
   "outputs": [],
   "source": [
    "8 / 2 = 4.0\n",
    "\n",
    "4 = int(4.0)\n",
    "\n",
    "4 == 4.0 True\n",
    "\n",
    "\n",
    "7 / 2 = 3.5\n",
    "\n",
    "3 = int(3.5)\n",
    "\n",
    "3 == 3.5 False\n",
    "\n",
    "7 / 2 = 3 r 1\n",
    "\n",
    "7 % 2 = 1\n",
    "\n",
    "n = 2 * k + 1\n",
    "\n",
    "7 = 2 * 3 + 1\n",
    "\n"
   ]
  },
  {
   "cell_type": "code",
   "execution_count": 24,
   "metadata": {},
   "outputs": [
    {
     "name": "stdout",
     "output_type": "stream",
     "text": [
      "even\n"
     ]
    }
   ],
   "source": [
    "n = -234234\n",
    "\n",
    "if n % 2 == 0:\n",
    "    print(\"even\")\n",
    "else:\n",
    "    print(\"odd\")"
   ]
  }
 ],
 "metadata": {
  "kernelspec": {
   "display_name": "Python 3.8.13 64-bit ('3.8.13')",
   "language": "python",
   "name": "python3"
  },
  "language_info": {
   "codemirror_mode": {
    "name": "ipython",
    "version": 3
   },
   "file_extension": ".py",
   "mimetype": "text/x-python",
   "name": "python",
   "nbconvert_exporter": "python",
   "pygments_lexer": "ipython3",
   "version": "3.8.13"
  },
  "orig_nbformat": 4,
  "vscode": {
   "interpreter": {
    "hash": "5ef31427dfd744c7ffa8d89a544298a5a7ffe291180da98fcec95d79e6048d54"
   }
  }
 },
 "nbformat": 4,
 "nbformat_minor": 2
}
