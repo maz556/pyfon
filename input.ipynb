{
 "cells": [
  {
   "cell_type": "markdown",
   "metadata": {},
   "source": [
    "# `input` Function\n",
    "\n",
    "There may be times when your script will need to request information from the user. The `input` function allows us to prompt the user from the terminal.\n",
    "\n",
    "```python\n",
    "name = input(\"What is your name? \")\n",
    "print(name)\n",
    "```\n",
    "\n",
    "As shown above, the `input` function takes on argument (a string) that it will then display to the user:\n",
    "\n",
    "```console\n",
    "What is your name? \n",
    "```\n",
    "\n",
    "At that point, the user can type in a string and press enter to submit it. Whatever the user typed will then be returned by the input function as a string."
   ]
  },
  {
   "cell_type": "code",
   "execution_count": 2,
   "metadata": {},
   "outputs": [
    {
     "name": "stdout",
     "output_type": "stream",
     "text": [
      "Hello Carlos Pineda!\n"
     ]
    }
   ],
   "source": [
    "name = input(\"What is your name? \")\n",
    "print(\"Hello \" + name + \"!\")"
   ]
  },
  {
   "cell_type": "markdown",
   "metadata": {},
   "source": [
    "## f-strings\n",
    "\n",
    "Instead of concatenating strings, it can more often be preferable to use Python built-in string formatting syntax.\n",
    "\n",
    "```python\n",
    "name = input(\"What is your name? \")\n",
    "# Instead of\n",
    "print(\"Hello \" + name + \"!\")\n",
    "# Do this\n",
    "print(f\"Hello {name}!\")\n",
    "```\n",
    "\n",
    "This allows us to directly insert variables in the middle of a new string."
   ]
  },
  {
   "cell_type": "code",
   "execution_count": 10,
   "metadata": {},
   "outputs": [
    {
     "name": "stdout",
     "output_type": "stream",
     "text": [
      "I am 27 years old\n",
      "I am 0027 years old\n",
      "num=27\n"
     ]
    }
   ],
   "source": [
    "# You can even insert variables of types other than string\n",
    "num = 27\n",
    "print(f\"I am {num} years old\")\n",
    "\n",
    "# f-strings also have some added functionality that allows you to format (what the 'f' stands for) your variables\n",
    "print(f\"I am {num:04} years old\")\n",
    "print(f\"{num=}\")\n",
    "\n",
    "# There are a lot of rules and they're kind of niche so I don't know them all off the top of my head. Ask Google if you need some specific formatting.\n"
   ]
  },
  {
   "cell_type": "markdown",
   "metadata": {},
   "source": [
    "## Back to the `input` function\n",
    "\n",
    "Remember that the `input` function returns the user input as a string. This means that when you're requesting the user for numerical data, like an integer or a float, you have to convert the value returned by the `input` function into the appropriate type if you want it to be of that type.\n",
    "\n",
    "```python\n",
    "age = input(\"How old are you? \")  # 25\n",
    "# This will raise an error\n",
    "age_plus_five = age + 5\n",
    "\n",
    "# You need to convert the value before using it as an integer\n",
    "age = int(age)  # You can use the `int` function to convert a string value to an integer value\n",
    "age_plus_five = age + 5\n",
    "```"
   ]
  },
  {
   "cell_type": "code",
   "execution_count": null,
   "metadata": {},
   "outputs": [],
   "source": [
    "# The `int` function can only convert strings that are numbers (e.g. \"5\", \"100\", \"345623452\")\n",
    "age = \"twenty\"\n",
    "age = int(age)"
   ]
  }
 ],
 "metadata": {
  "kernelspec": {
   "display_name": "Python 3.8.13 64-bit ('3.8.13')",
   "language": "python",
   "name": "python3"
  },
  "language_info": {
   "codemirror_mode": {
    "name": "ipython",
    "version": 3
   },
   "file_extension": ".py",
   "mimetype": "text/x-python",
   "name": "python",
   "nbconvert_exporter": "python",
   "pygments_lexer": "ipython3",
   "version": "3.8.13"
  },
  "orig_nbformat": 4,
  "vscode": {
   "interpreter": {
    "hash": "5ef31427dfd744c7ffa8d89a544298a5a7ffe291180da98fcec95d79e6048d54"
   }
  }
 },
 "nbformat": 4,
 "nbformat_minor": 2
}
