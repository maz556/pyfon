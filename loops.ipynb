{
 "cells": [
  {
   "cell_type": "markdown",
   "metadata": {},
   "source": [
    "# Loops"
   ]
  },
  {
   "cell_type": "code",
   "execution_count": 26,
   "metadata": {},
   "outputs": [
    {
     "name": "stdout",
     "output_type": "stream",
     "text": [
      "0\n",
      "1\n",
      "2\n",
      "3\n",
      "4\n",
      "5\n"
     ]
    }
   ],
   "source": [
    "# Many times, a line of code (or multiple lines of code) may need to repeated multiple times\n",
    "print(0)\n",
    "print(1)\n",
    "print(2)\n",
    "print(3)\n",
    "print(4)\n",
    "print(5)"
   ]
  },
  {
   "cell_type": "markdown",
   "metadata": {},
   "source": [
    "In order to efficiently write these repeated instructions we can use loops"
   ]
  },
  {
   "cell_type": "markdown",
   "metadata": {},
   "source": [
    "## `for` Loops\n",
    "\n",
    "For loops are used to repeat an instruction _for_ a specific amount of repititions"
   ]
  },
  {
   "cell_type": "code",
   "execution_count": null,
   "metadata": {},
   "outputs": [],
   "source": [
    "# This code accomplishes the same as the multiple print statements above\n",
    "for x in range(6):\n",
    "    print(x)"
   ]
  },
  {
   "cell_type": "code",
   "execution_count": null,
   "metadata": {},
   "outputs": [],
   "source": [
    "# This also allows us to change the number we're printing to whatever number we want\n",
    "for x in range(10000):  # Really big or whatever\n",
    "    print(x)"
   ]
  },
  {
   "cell_type": "markdown",
   "metadata": {},
   "source": [
    "The basic syntax for a for loop is:\n",
    "\n",
    "```python\n",
    "for ITEM in COLLECTION:\n",
    "    STUFF TO DO\n",
    "```\n",
    "\n",
    "In the example above, the built-in `range` function is used to create a collection of numbers (0, 1, 2, 3, 4, 5). At the beginning of each iteration of the loop, the variable `x` is set to the next value in the collection.\n",
    "\n",
    "### `range` Function\n",
    "\n",
    "The `range` function accepts one, two, or three integer arguments:\n",
    "\n",
    "```python\n",
    "# When given one argument, the range will start at 0 and use the given integer as the stopping point (non-inclusive)\n",
    "range(4)  # 0, 1, 2, 3\n",
    "# When given two arguments, the first is the starting point (inclusive) and the second is the stopping point (non-inclusive)\n",
    "range(1, 5)  # 1, 2, 3, 4\n",
    "# When given three arguemnts, the first two arguments are the same as when two arguments are given, but the third argument is used as the step (value increase per number)\n",
    "range(1, 9, 2)  # 1, 3, 5, 7\n",
    "```"
   ]
  },
  {
   "cell_type": "code",
   "execution_count": null,
   "metadata": {},
   "outputs": [],
   "source": [
    "# Indentation matters\n",
    "for x in range(5):\n",
    "    # These lines are considered part of the for loop\n",
    "    print(x)\n",
    "    print(\"Next!\")\n",
    "\n",
    "# This line is considered to be outside/after the for loop\n",
    "print(\"Done!\")"
   ]
  },
  {
   "cell_type": "code",
   "execution_count": 1,
   "metadata": {},
   "outputs": [
    {
     "name": "stdout",
     "output_type": "stream",
     "text": [
      "Yo\n",
      "Yo\n",
      "Yo\n",
      "Yo\n",
      "Yo\n",
      "Yo\n",
      "Loooop\n",
      "Loooop\n",
      "Loooop\n",
      "Loooop\n",
      "Loooop\n",
      "Loooop\n"
     ]
    }
   ],
   "source": [
    "# You don't even need to use the variable defined in the foor loop if all you want to do is repeat\n",
    "# the same thing a certain number of times\n",
    "for x in range(6):\n",
    "    print(\"Yo\")\n",
    "    # Didn't use the variable 'x' inside the loop at all\n",
    "\n",
    "# If you do this it's recommended to name the variable '_' to signify that it's a throwaway variable\n",
    "for _ in range(6):\n",
    "    print(\"Loooop\")"
   ]
  },
  {
   "cell_type": "markdown",
   "metadata": {},
   "source": [
    "## `while` loops\n",
    "\n",
    "`for` loops allow us to repeat instructions over a set number of times, which can be limiting if we instead don't know how many times we're going to have to repeat a set of instructions. `while` loops allow us to repeat instructions an arbitrary amount of times while a condition that we give is `True`."
   ]
  },
  {
   "cell_type": "code",
   "execution_count": 2,
   "metadata": {},
   "outputs": [
    {
     "name": "stdout",
     "output_type": "stream",
     "text": [
      "0\n",
      "3\n",
      "Done!\n"
     ]
    }
   ],
   "source": [
    "x = 0\n",
    "while x < 6:\n",
    "    print(x)\n",
    "    x += 1  # Shorthand for `x = x + 1`\n",
    "\n",
    "# Once x is not less than 6, the next part of the code will be run\n",
    "print(\"Done!\")"
   ]
  },
  {
   "cell_type": "markdown",
   "metadata": {},
   "source": [
    "The basic syntax of a `while` loop is:\n",
    "\n",
    "```python\n",
    "while CONDITION:\n",
    "    STUFF TO DO\n",
    "```\n",
    "\n",
    "**It's important that somewhere in the STUFF TO DO there is code that will cause the CONDITION to be `False` or else the loop will repeat infinitely.**\n",
    "\n",
    "```python\n",
    "x = 0\n",
    "while x < 6:\n",
    "    print(x)\n",
    "\n",
    "# The above loop will repeat forever because there is nothing changing x so that the condition `x < 6` becomes `False`\n",
    "\n",
    "# The same thing happens if you just give `True` or something that always evaluates to `True` as the condition\n",
    "while True:\n",
    "    print(\"I'm stuck!\")\n",
    "\n",
    "while 5 < 6:\n",
    "    print(\"Me too!\")\n",
    "\n",
    "# Conversely, giving something that evaluates to `False` or just giving `False` directly will cause the loop to not run at all\n",
    "while 5 > 6:\n",
    "    print(\"This line doesn't happen\")\n",
    "\n",
    "while False:\n",
    "    print(\"This line also doesn't happen\")"
   ]
  },
  {
   "cell_type": "markdown",
   "metadata": {},
   "source": [
    "## `continue`\n",
    "\n",
    "You can skip to the next iteration of a loop prematurely by using the `continue` keyword."
   ]
  },
  {
   "cell_type": "code",
   "execution_count": 1,
   "metadata": {},
   "outputs": [
    {
     "name": "stdout",
     "output_type": "stream",
     "text": [
      "0\n",
      "1\n",
      "2\n",
      "That's 3!\n",
      "4\n",
      "5\n",
      "0\n",
      "1\n",
      "2\n",
      "That's 3!\n",
      "4\n",
      "5\n"
     ]
    }
   ],
   "source": [
    "for x in range(6):\n",
    "    if x == 3:\n",
    "        # The code in this block will only run if x is equal to 3\n",
    "        print(\"That's 3!\")\n",
    "        continue  # This goes to the next iteration of the loop without reaching the code below\n",
    "    \n",
    "    print(x)\n",
    "\n",
    "# `continue` can also be used within a while loop\n",
    "x = 0\n",
    "while x < 6:\n",
    "    if x == 3:\n",
    "        print(\"That's 3!\")\n",
    "        x += 1  # This NEEDS to be here too or it will go on infinitely\n",
    "        continue\n",
    "    \n",
    "    print(x)\n",
    "    x += 1\n"
   ]
  },
  {
   "cell_type": "markdown",
   "metadata": {},
   "source": [
    "## `break` Keyword\n",
    "\n",
    "The `break` keyword is similar to the `continue`, but instead of skipping to the next iteration of the loop, it breaks out and ends the loop entirely."
   ]
  },
  {
   "cell_type": "code",
   "execution_count": 6,
   "metadata": {},
   "outputs": [
    {
     "name": "stdout",
     "output_type": "stream",
     "text": [
      "0\n",
      "1\n",
      "2\n",
      "\n",
      "1\n",
      "2\n",
      "3\n",
      "4\n",
      "We're out!\n"
     ]
    }
   ],
   "source": [
    "for x in range(6):\n",
    "    if x == 3:\n",
    "        break\n",
    "\n",
    "    print(x)\n",
    "\n",
    "print(\"Out of the for loop!\")  # To space out the output\n",
    "\n",
    "x = 1\n",
    "while True:  # Infinite condition!\n",
    "    if x == 5:\n",
    "        break  # But we can break out with `break`\n",
    "\n",
    "    print(x)\n",
    "    x += 1\n",
    "\n",
    "print(\"We're out!\")"
   ]
  }
 ],
 "metadata": {
  "kernelspec": {
   "display_name": "Python 3.8.13 64-bit ('3.8.13')",
   "language": "python",
   "name": "python3"
  },
  "language_info": {
   "codemirror_mode": {
    "name": "ipython",
    "version": 3
   },
   "file_extension": ".py",
   "mimetype": "text/x-python",
   "name": "python",
   "nbconvert_exporter": "python",
   "pygments_lexer": "ipython3",
   "version": "3.8.13"
  },
  "orig_nbformat": 4,
  "vscode": {
   "interpreter": {
    "hash": "5ef31427dfd744c7ffa8d89a544298a5a7ffe291180da98fcec95d79e6048d54"
   }
  }
 },
 "nbformat": 4,
 "nbformat_minor": 2
}
