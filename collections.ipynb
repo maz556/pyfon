{
 "cells": [
  {
   "cell_type": "markdown",
   "metadata": {},
   "source": [
    "# Collections\n",
    "\n",
    "It's also possible to store values in a collection of values. These are a few of the basic collection objects in Python."
   ]
  },
  {
   "cell_type": "markdown",
   "metadata": {},
   "source": [
    "## Lists\n",
    "\n",
    "Lists are objects that can store multiple values of various types. You can add and remove values from the list after you create it and the values in the list (also referred to as \"items\" or \"elements\") are assigned an index depending on where they were inserted in the list."
   ]
  },
  {
   "cell_type": "code",
   "execution_count": 5,
   "metadata": {},
   "outputs": [
    {
     "name": "stdout",
     "output_type": "stream",
     "text": [
      "[1, 3, 2, 5, 2, 6]\n",
      "<class 'list'>\n",
      "[1, 3, 2, 5, 2, 6, 9]\n",
      "[1, 3, 5, 2, 6, 9]\n",
      "[1, 2, 3, 5, 6, 9]\n"
     ]
    }
   ],
   "source": [
    "this_list = [1, 3, 2, 5, 2, 6]\n",
    "print(this_list)\n",
    "# You can use the `type` function to get the type of an object\n",
    "print(type(this_list))\n",
    "# You can use the `append` method to add things to the end of a list\n",
    "this_list.append(9)\n",
    "print(this_list)\n",
    "# You can remove the first occurence (lowest index) of a value using the `remove` method\n",
    "this_list.remove(2)\n",
    "print(this_list)\n",
    "# You can sort the list using the `sort` method\n",
    "this_list.sort()\n",
    "print(this_list)\n",
    "\n",
    "# There are several other methods that belong to the `list` type\n",
    "# you can find a list of these methods here: https://www.w3schools.com/python/python_ref_list.asp"
   ]
  },
  {
   "cell_type": "code",
   "execution_count": null,
   "metadata": {},
   "outputs": [],
   "source": [
    "# You can define an empty list by just putting nothing between the brackets\n",
    "a_list = []\n",
    "print(a_list)"
   ]
  },
  {
   "cell_type": "markdown",
   "metadata": {},
   "source": [
    "### Indexing\n",
    "\n",
    "Similarly to strings, you can access an item of a list using indexing."
   ]
  },
  {
   "cell_type": "code",
   "execution_count": 7,
   "metadata": {},
   "outputs": [
    {
     "name": "stdout",
     "output_type": "stream",
     "text": [
      "6\n",
      "6\n"
     ]
    },
    {
     "ename": "TypeError",
     "evalue": "'int' object is not subscriptable",
     "output_type": "error",
     "traceback": [
      "\u001b[0;31m---------------------------------------------------------------------------\u001b[0m",
      "\u001b[0;31mTypeError\u001b[0m                                 Traceback (most recent call last)",
      "\u001b[1;32m/home/maz/Projects/pyfon/collections.ipynb Cell 6\u001b[0m in \u001b[0;36m<cell line: 6>\u001b[0;34m()\u001b[0m\n\u001b[1;32m      <a href='vscode-notebook-cell://wsl%2Bubuntu-20.04/home/maz/Projects/pyfon/collections.ipynb#ch0000007vscode-remote?line=3'>4</a>\u001b[0m \u001b[39mprint\u001b[39m(a_list[\u001b[39m2\u001b[39m])\n\u001b[1;32m      <a href='vscode-notebook-cell://wsl%2Bubuntu-20.04/home/maz/Projects/pyfon/collections.ipynb#ch0000007vscode-remote?line=4'>5</a>\u001b[0m an_int \u001b[39m=\u001b[39m \u001b[39m705\u001b[39m\n\u001b[0;32m----> <a href='vscode-notebook-cell://wsl%2Bubuntu-20.04/home/maz/Projects/pyfon/collections.ipynb#ch0000007vscode-remote?line=5'>6</a>\u001b[0m \u001b[39mprint\u001b[39m(an_int[\u001b[39m2\u001b[39;49m])\n",
      "\u001b[0;31mTypeError\u001b[0m: 'int' object is not subscriptable"
     ]
    }
   ],
   "source": [
    "a_string = \"51689\"\n",
    "print(a_string[2])\n",
    "a_list = [5, 1, 6, 8, 9]\n",
    "print(a_list[2])"
   ]
  },
  {
   "cell_type": "markdown",
   "metadata": {},
   "source": [
    "### Slicing\n",
    "\n",
    "You can get a elements within a range of indices using slicing notation.\n",
    "\n",
    "```python\n",
    "collection_object[START:END]  # END is non-inclusive, just like the `range` function\n",
    "```"
   ]
  },
  {
   "cell_type": "code",
   "execution_count": 9,
   "metadata": {},
   "outputs": [
    {
     "name": "stdout",
     "output_type": "stream",
     "text": [
      "168\n",
      "[1, 6, 8]\n"
     ]
    }
   ],
   "source": [
    "a_string = \"51689\"\n",
    "print(a_string[1:4])\n",
    "a_list = [5, 1, 6, 8, 9]\n",
    "print(a_list[1:4])"
   ]
  },
  {
   "cell_type": "markdown",
   "metadata": {},
   "source": [
    "### Looping through a list\n",
    "\n",
    "You can even use lists in `for` loops (instead of making a collection of numbers using the `range` function)."
   ]
  },
  {
   "cell_type": "code",
   "execution_count": 10,
   "metadata": {},
   "outputs": [
    {
     "name": "stdout",
     "output_type": "stream",
     "text": [
      "3\n",
      "1\n",
      "2\n",
      "6\n"
     ]
    }
   ],
   "source": [
    "a_list = [3, 1, 2, 6]\n",
    "for x in a_list:\n",
    "    print(x)  # x is set to every value of the list in order from index 0 to the last index"
   ]
  }
 ],
 "metadata": {
  "kernelspec": {
   "display_name": "Python 3.8.13 64-bit ('3.8.13')",
   "language": "python",
   "name": "python3"
  },
  "language_info": {
   "codemirror_mode": {
    "name": "ipython",
    "version": 3
   },
   "file_extension": ".py",
   "mimetype": "text/x-python",
   "name": "python",
   "nbconvert_exporter": "python",
   "pygments_lexer": "ipython3",
   "version": "3.8.13"
  },
  "orig_nbformat": 4,
  "vscode": {
   "interpreter": {
    "hash": "5ef31427dfd744c7ffa8d89a544298a5a7ffe291180da98fcec95d79e6048d54"
   }
  }
 },
 "nbformat": 4,
 "nbformat_minor": 2
}
